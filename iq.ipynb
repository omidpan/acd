{
 "cells": [
  {
   "cell_type": "code",
   "execution_count": 2,
   "metadata": {},
   "outputs": [],
   "source": [
    "import time\n",
    "import threading\n",
    "import warnings\n",
    "from datetime import datetime\n",
    "from typing import Dict , Optional\n",
    "import pandas as pd\n",
    "warnings.filterwarnings('ignore')"
   ]
  },
  {
   "cell_type": "markdown",
   "metadata": {},
   "source": [
    "# interactive broker API live"
   ]
  },
  {
   "cell_type": "code",
   "execution_count": null,
   "metadata": {},
   "outputs": [
    {
     "name": "stdout",
     "output_type": "stream",
     "text": [
      "Collecting ib_insync\n",
      "  Downloading ib_insync-0.9.86-py3-none-any.whl.metadata (5.4 kB)\n",
      "Collecting eventkit (from ib_insync)\n",
      "  Downloading eventkit-1.0.3-py3-none-any.whl.metadata (5.4 kB)\n",
      "Requirement already satisfied: nest-asyncio in /home/teacher/.pyenv/versions/miniconda3-4.7.12/envs/stock/lib/python3.10/site-packages (from ib_insync) (1.6.0)\n",
      "Requirement already satisfied: numpy in /home/teacher/.pyenv/versions/miniconda3-4.7.12/envs/stock/lib/python3.10/site-packages (from eventkit->ib_insync) (1.22.3)\n",
      "Downloading ib_insync-0.9.86-py3-none-any.whl (72 kB)\n",
      "Downloading eventkit-1.0.3-py3-none-any.whl (31 kB)\n",
      "Installing collected packages: eventkit, ib_insync\n",
      "Successfully installed eventkit-1.0.3 ib_insync-0.9.86\n"
     ]
    }
   ],
   "source": [
    "# !pip install ibapi\n",
    "# !pip install ib_insync"
   ]
  },
  {
   "cell_type": "code",
   "execution_count": 5,
   "metadata": {},
   "outputs": [],
   "source": [
    "from ibapi.client import EClient\n",
    "from ibapi.wrapper import EWrapper\n",
    "from ibapi.contract import Contract\n",
    "from ibapi.order import Order\n",
    "from ibapi.common import BarData"
   ]
  },
  {
   "cell_type": "code",
   "execution_count": 9,
   "metadata": {},
   "outputs": [],
   "source": [
    "class TradingApp(EClient,EWrapper):\n",
    "    def __init__(self)->None:\n",
    "        EClient.__init__(self,self)\n",
    "        self.data: Dict[int,pd.DataFrame]={}\n",
    "    def error(self,reqId:int, erroCode:int,errorString:str, advanced:any)->None:\n",
    "        print(f'Error: ',{reqId},{erroCode},{errorString})\n",
    "    def get_historical_data(self,reqId:int,contract:Contract)->pd.DataFrame:\n",
    "        self.data[reqId]=pd.DataFrame(columns=['time','high','low','close'])\n",
    "        self.data[reqId].set_index('time',inplace=True)\n",
    "        self.reqHistoricalData(\n",
    "            reqId=reqId,\n",
    "            contract=contract,\n",
    "            endDateTime='',\n",
    "            durationStr='1 D',\n",
    "            barSizeSetting='1 min',\n",
    "            whatToShow='MIDPOINT',\n",
    "            useRTH=0,\n",
    "            formatDate=2,\n",
    "            keepUpToDate=False,\n",
    "            chartOptions=[],\n",
    "        )\n",
    "        time.sleep(4)\n",
    "        return self.data[reqId]\n",
    "    def historicalData(self, reqId:int, bar:BarData)->None:\n",
    "        df=self.data[reqId]\n",
    "        df.loc[pd.to_datetime(bar.date,unit='s'),['high','low','close']]=[bar.high,bar.low,bar.close]\n",
    "        df=df.astype(float)\n",
    "        self.data[reqId]=df\n",
    "    @staticmethod\n",
    "    def get_stock_contract(symbol:str)->Contract:\n",
    "        contract=Contract()\n",
    "        contract.symbol=symbol\n",
    "        contract.secType='STK'\n",
    "        contract.exchange='USD'\n",
    "        return contract\n",
    "        \n",
    "    \n",
    "        \n"
   ]
  },
  {
   "cell_type": "markdown",
   "metadata": {},
   "source": [
    "# you need to have TWS API and Trader WorkStation"
   ]
  }
 ],
 "metadata": {
  "kernelspec": {
   "display_name": "stock",
   "language": "python",
   "name": "python3"
  },
  "language_info": {
   "codemirror_mode": {
    "name": "ipython",
    "version": 3
   },
   "file_extension": ".py",
   "mimetype": "text/x-python",
   "name": "python",
   "nbconvert_exporter": "python",
   "pygments_lexer": "ipython3",
   "version": "3.10.16"
  }
 },
 "nbformat": 4,
 "nbformat_minor": 2
}
