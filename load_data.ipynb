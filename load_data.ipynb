{
 "cells": [
  {
   "cell_type": "code",
   "execution_count": 8,
   "metadata": {},
   "outputs": [
    {
     "name": "stdout",
     "output_type": "stream",
     "text": [
      "                    Datetime       Close        High         Low        Open  \\\n",
      "0  2025-03-03 09:30:00-05:00  179.750000  180.050003  178.080002  178.699997   \n",
      "1  2025-03-03 09:31:00-05:00  179.429993  180.749893  179.130005  180.210007   \n",
      "2  2025-03-03 09:32:00-05:00  179.850006  180.059998  179.239700  179.360107   \n",
      "3  2025-03-03 09:33:00-05:00  179.618393  179.873505  179.240005  179.699997   \n",
      "4  2025-03-03 09:34:00-05:00  180.925095  180.925095  179.240005  179.434998   \n",
      "\n",
      "   Volume  \n",
      "0  202715  \n",
      "1   40063  \n",
      "2   27309  \n",
      "3   23323  \n",
      "4   42426  \n"
     ]
    }
   ],
   "source": [
    "import pandas as pd\n",
    "df = pd.read_csv(\"SNOW_data.csv\")\n",
    "print(df.head())"
   ]
  }
 ],
 "metadata": {
  "kernelspec": {
   "display_name": "stock",
   "language": "python",
   "name": "python3"
  },
  "language_info": {
   "codemirror_mode": {
    "name": "ipython",
    "version": 3
   },
   "file_extension": ".py",
   "mimetype": "text/x-python",
   "name": "python",
   "nbconvert_exporter": "python",
   "pygments_lexer": "ipython3",
   "version": "3.10.4"
  }
 },
 "nbformat": 4,
 "nbformat_minor": 2
}
