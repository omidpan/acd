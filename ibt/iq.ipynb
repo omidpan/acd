{
 "cells": [
  {
   "cell_type": "code",
   "execution_count": 1,
   "metadata": {},
   "outputs": [],
   "source": [
    "import time\n",
    "import threading\n",
    "import warnings\n",
    "from datetime import datetime\n",
    "from typing import Dict , Optional\n",
    "import pandas as pd # type: ignore\n",
    "warnings.filterwarnings('ignore')"
   ]
  },
  {
   "cell_type": "markdown",
   "metadata": {},
   "source": [
    "# interactive broker API live"
   ]
  },
  {
   "cell_type": "code",
   "execution_count": 2,
   "metadata": {},
   "outputs": [
    {
     "name": "stdout",
     "output_type": "stream",
     "text": [
      "Requirement already satisfied: ibapi in /opt/anaconda3/envs/stock/lib/python3.11/site-packages (9.81.1.post1)\n",
      "Requirement already satisfied: ib_insync in /opt/anaconda3/envs/stock/lib/python3.11/site-packages (0.9.86)\n",
      "Requirement already satisfied: eventkit in /opt/anaconda3/envs/stock/lib/python3.11/site-packages (from ib_insync) (1.0.3)\n",
      "Requirement already satisfied: nest-asyncio in /opt/anaconda3/envs/stock/lib/python3.11/site-packages (from ib_insync) (1.6.0)\n",
      "Requirement already satisfied: numpy in /opt/anaconda3/envs/stock/lib/python3.11/site-packages (from eventkit->ib_insync) (2.2.4)\n"
     ]
    }
   ],
   "source": [
    "!pip install ibapi\n",
    "!pip install ib_insync"
   ]
  },
  {
   "cell_type": "code",
   "execution_count": null,
   "metadata": {},
   "outputs": [],
   "source": [
    "from ibapi.client import EClient # type: ignore\n",
    "from ibapi.wrapper import EWrapper\n",
    "from ibapi.contract import Contract\n",
    "from ibapi.order import Order\n",
    "from ibapi.common import BarData"
   ]
  },
  {
   "cell_type": "code",
   "execution_count": 9,
   "metadata": {},
   "outputs": [],
   "source": [
    "class TradingApp(EClient,EWrapper):\n",
    "    def __init__(self)->None:\n",
    "        EClient.__init__(self,self)\n",
    "        self.data: Dict[int,pd.DataFrame]={}\n",
    "    def error(self,reqId:int, erroCode:int,errorString:str, advanced:any)->None:\n",
    "        print(f'Error: ',{reqId},{erroCode},{errorString})\n",
    "    def get_historical_data(self,reqId:int,contract:Contract)->pd.DataFrame:\n",
    "        self.data[reqId]=pd.DataFrame(columns=['time','high','low','close'])\n",
    "        self.data[reqId].set_index('time',inplace=True)\n",
    "        self.reqHistoricalData(\n",
    "            reqId=reqId,\n",
    "            contract=contract,\n",
    "            endDateTime='',\n",
    "            durationStr='1 D',\n",
    "            barSizeSetting='1 min',\n",
    "            whatToShow='MIDPOINT',\n",
    "            useRTH=0,\n",
    "            formatDate=2,\n",
    "            keepUpToDate=False,\n",
    "            chartOptions=[],\n",
    "        )\n",
    "        time.sleep(4)\n",
    "        return self.data[reqId]\n",
    "    def historicalData(self, reqId:int, bar:BarData)->None:\n",
    "        df=self.data[reqId]\n",
    "        df.loc[pd.to_datetime(bar.date,unit='s'),['high','low','close']]=[bar.high,bar.low,bar.close]\n",
    "        df=df.astype(float)\n",
    "        self.data[reqId]=df\n",
    "    @staticmethod\n",
    "    def get_stock_contract(symbol:str)->Contract:\n",
    "        contract=Contract()\n",
    "        contract.symbol=symbol\n",
    "        contract.secType='STK'\n",
    "        contract.exchange='USD'\n",
    "        return contract\n",
    "        \n",
    "    \n",
    "        \n"
   ]
  },
  {
   "cell_type": "markdown",
   "metadata": {},
   "source": [
    "# you need to have TWS API and Trader WorkStation"
   ]
  }
 ],
 "metadata": {
  "kernelspec": {
   "display_name": "stock",
   "language": "python",
   "name": "python3"
  },
  "language_info": {
   "codemirror_mode": {
    "name": "ipython",
    "version": 3
   },
   "file_extension": ".py",
   "mimetype": "text/x-python",
   "name": "python",
   "nbconvert_exporter": "python",
   "pygments_lexer": "ipython3",
   "version": "3.11.11"
  }
 },
 "nbformat": 4,
 "nbformat_minor": 2
}
