{
 "cells": [
  {
   "cell_type": "code",
   "execution_count": 1,
   "id": "bd0f2d2f",
   "metadata": {},
   "outputs": [],
   "source": [
    "from ibapi.client import *\n",
    "from ibapi.wrapper import *\n",
    "import time \n",
    "import threading"
   ]
  },
  {
   "cell_type": "code",
   "execution_count": 23,
   "id": "4d070e3c",
   "metadata": {},
   "outputs": [
    {
     "name": "stdout",
     "output_type": "stream",
     "text": [
      "reqId: -1, errorCode: 326, errorString: Unable to connect as the client id is already in use. Retry with a unique client id., orderReject: \n"
     ]
    },
    {
     "ename": "AttributeError",
     "evalue": "'TestApp' object has no attribute 'orderId'",
     "output_type": "error",
     "traceback": [
      "\u001b[31m---------------------------------------------------------------------------\u001b[39m",
      "\u001b[31mAttributeError\u001b[39m                            Traceback (most recent call last)",
      "\u001b[36mCell\u001b[39m\u001b[36m \u001b[39m\u001b[32mIn[23]\u001b[39m\u001b[32m, line 31\u001b[39m\n\u001b[32m     29\u001b[39m time.sleep(\u001b[32m1\u001b[39m)\n\u001b[32m     30\u001b[39m \u001b[38;5;66;03m# Wait until we have a valid orderId\u001b[39;00m\n\u001b[32m---> \u001b[39m\u001b[32m31\u001b[39m \u001b[43mapp\u001b[49m\u001b[43m.\u001b[49m\u001b[43mwait_for_orderId\u001b[49m\u001b[43m(\u001b[49m\u001b[43m)\u001b[49m\n\u001b[32m     33\u001b[39m \u001b[38;5;28;01mfor\u001b[39;00m i \u001b[38;5;129;01min\u001b[39;00m \u001b[38;5;28mrange\u001b[39m(\u001b[32m0\u001b[39m,\u001b[32m5\u001b[39m):\n\u001b[32m     34\u001b[39m     \u001b[38;5;28mprint\u001b[39m(app.nextId())\n",
      "\u001b[36mCell\u001b[39m\u001b[36m \u001b[39m\u001b[32mIn[23]\u001b[39m\u001b[32m, line 17\u001b[39m, in \u001b[36mTestApp.wait_for_orderId\u001b[39m\u001b[34m(self)\u001b[39m\n\u001b[32m     15\u001b[39m \u001b[38;5;28;01mdef\u001b[39;00m\u001b[38;5;250m \u001b[39m\u001b[34mwait_for_orderId\u001b[39m(\u001b[38;5;28mself\u001b[39m):\n\u001b[32m     16\u001b[39m \u001b[38;5;250m    \u001b[39m\u001b[33;03m\"\"\"Block the thread until nextValidId has been called to initialize orderId.\"\"\"\u001b[39;00m\n\u001b[32m---> \u001b[39m\u001b[32m17\u001b[39m     \u001b[38;5;28;01mwhile\u001b[39;00m \u001b[38;5;28;43mself\u001b[39;49m\u001b[43m.\u001b[49m\u001b[43morderId\u001b[49m \u001b[38;5;129;01mis\u001b[39;00m \u001b[38;5;28;01mNone\u001b[39;00m:\n\u001b[32m     18\u001b[39m         time.sleep(\u001b[32m0.1\u001b[39m)\n",
      "\u001b[31mAttributeError\u001b[39m: 'TestApp' object has no attribute 'orderId'"
     ]
    }
   ],
   "source": [
    "class TestApp (EClient,EWrapper):\n",
    "    def __init__(self):\n",
    "        EClient.__init__(self,self)\n",
    "        \n",
    "    def nextValidId(self,orderId):\n",
    "        self.orderId=orderId\n",
    "    \n",
    "    def nextId(self):\n",
    "        self.orderId +=1\n",
    "        return self.orderId\n",
    "    def disconnect_properly(self):\n",
    "        \"\"\"Make sure we disconnect properly to release the clientId.\"\"\"\n",
    "        self.disconnect()\n",
    "        print(f\"Disconnected and clientId {self.clientId} is released.\")\n",
    "    def wait_for_orderId(self):\n",
    "        \"\"\"Block the thread until nextValidId has been called to initialize orderId.\"\"\"\n",
    "        while self.orderId is None:\n",
    "            time.sleep(0.1)  # Sleep for a short period and check again\n",
    "    def currentTime(self, time):\n",
    "        print(time)     \n",
    "    \n",
    "    def error(self , reqId, errorCode , errorString, advanceOrderReject):\n",
    "        print(f'reqId: {reqId}, errorCode: {errorCode}, errorString: {errorString}, orderReject: {advanceOrderReject}')\n",
    "        \n",
    "app=TestApp()\n",
    "app.connect('127.0.0.1',7497,199)\n",
    "\n",
    "threading.Thread(target=app.run).start()\n",
    "time.sleep(1)\n",
    "# Wait until we have a valid orderId\n",
    "app.wait_for_orderId()\n",
    "\n",
    "for i in range(0,5):\n",
    "    print(app.nextId())\n",
    "    app.reqCurrentTime()\n",
    "\n",
    "\n",
    "\n",
    "    \n",
    "    \n",
    "        "
   ]
  }
 ],
 "metadata": {
  "kernelspec": {
   "display_name": "stock",
   "language": "python",
   "name": "python3"
  },
  "language_info": {
   "codemirror_mode": {
    "name": "ipython",
    "version": 3
   },
   "file_extension": ".py",
   "mimetype": "text/x-python",
   "name": "python",
   "nbconvert_exporter": "python",
   "pygments_lexer": "ipython3",
   "version": "3.11.13"
  }
 },
 "nbformat": 4,
 "nbformat_minor": 5
}
