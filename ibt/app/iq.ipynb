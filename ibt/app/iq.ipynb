{
 "cells": [
  {
   "cell_type": "code",
   "execution_count": 1,
   "metadata": {},
   "outputs": [],
   "source": [
    "import time\n",
    "import threading\n",
    "import warnings\n",
    "from datetime import datetime\n",
    "from typing import Dict , Optional\n",
    "import pandas as pd # type: ignore\n",
    "warnings.filterwarnings('ignore')"
   ]
  },
  {
   "cell_type": "markdown",
   "metadata": {},
   "source": [
    "# interactive broker API live"
   ]
  },
  {
   "cell_type": "code",
   "execution_count": 2,
   "metadata": {},
   "outputs": [
    {
     "name": "stdout",
     "output_type": "stream",
     "text": [
      "\u001b[33mDEPRECATION: Loading egg at /opt/anaconda3/envs/stock/lib/python3.11/site-packages/ibapi-10.30.1-py3.11.egg is deprecated. pip 25.1 will enforce this behaviour change. A possible replacement is to use pip for package installation. Discussion can be found at https://github.com/pypa/pip/issues/12330\u001b[0m\u001b[33m\n",
      "\u001b[0mRequirement already satisfied: ibapi in /opt/anaconda3/envs/stock/lib/python3.11/site-packages/ibapi-10.30.1-py3.11.egg (10.30.1)\n",
      "\u001b[33mDEPRECATION: Loading egg at /opt/anaconda3/envs/stock/lib/python3.11/site-packages/ibapi-10.30.1-py3.11.egg is deprecated. pip 25.1 will enforce this behaviour change. A possible replacement is to use pip for package installation. Discussion can be found at https://github.com/pypa/pip/issues/12330\u001b[0m\u001b[33m\n",
      "\u001b[0mRequirement already satisfied: ib_insync in /opt/anaconda3/envs/stock/lib/python3.11/site-packages (0.9.86)\n",
      "Requirement already satisfied: eventkit in /opt/anaconda3/envs/stock/lib/python3.11/site-packages (from ib_insync) (1.0.3)\n",
      "Requirement already satisfied: nest-asyncio in /opt/anaconda3/envs/stock/lib/python3.11/site-packages (from ib_insync) (1.6.0)\n",
      "Requirement already satisfied: numpy in /opt/anaconda3/envs/stock/lib/python3.11/site-packages (from eventkit->ib_insync) (2.2.4)\n"
     ]
    }
   ],
   "source": [
    "!pip install ibapi\n",
    "!pip install ib_insync"
   ]
  },
  {
   "cell_type": "code",
   "execution_count": 3,
   "metadata": {},
   "outputs": [],
   "source": [
    "from ibapi.client import EClient # type: ignore\n",
    "from ibapi.wrapper import EWrapper\n",
    "from ibapi.contract import Contract\n",
    "from ibapi.order import Order\n",
    "from ibapi.common import BarData"
   ]
  },
  {
   "cell_type": "code",
   "execution_count": 4,
   "metadata": {},
   "outputs": [],
   "source": [
    "class TradingApp(EClient,EWrapper):\n",
    "    def __init__(self)->None:\n",
    "        EClient.__init__(self,self)\n",
    "        self.data: Dict[int,pd.DataFrame]={}\n",
    "    def error(self,reqId:int, erroCode:int,errorString:str)->None:\n",
    "        print(f'Error: ',{reqId},{erroCode},{errorString})\n",
    "    def get_historical_data(self,reqId:int,contract:Contract)->pd.DataFrame:\n",
    "        self.data[reqId]=pd.DataFrame(columns=['time','high','low','close'])\n",
    "        self.data[reqId].set_index('time',inplace=True)\n",
    "        self.reqHistoricalData(\n",
    "            reqId=reqId,\n",
    "            contract=contract,\n",
    "            endDateTime='',\n",
    "            durationStr='1 D',\n",
    "            barSizeSetting='1 min',\n",
    "            whatToShow='MIDPOINT',\n",
    "            useRTH=0,\n",
    "            formatDate=2,\n",
    "            keepUpToDate=False,\n",
    "            chartOptions=[],\n",
    "        )\n",
    "        time.sleep(4)\n",
    "        return self.data[reqId]\n",
    "    def historicalData(self, reqId:int, bar:BarData)->None:\n",
    "        df=self.data[reqId]\n",
    "        df.loc[pd.to_datetime(bar.date,unit='s'),['high','low','close']]=[bar.high,bar.low,bar.close]\n",
    "        df=df.astype(float)\n",
    "        self.data[reqId]=df\n",
    "    @staticmethod\n",
    "    def get_stock_contract(symbol:str)->Contract:\n",
    "        contract=Contract()\n",
    "        contract.symbol=symbol\n",
    "        contract.secType='STK'\n",
    "        contract.exchange='SMART'\n",
    "        contract.currency='USD'\n",
    "        return contract\n",
    "        \n",
    "    \n",
    "        \n"
   ]
  },
  {
   "cell_type": "markdown",
   "metadata": {},
   "source": [
    "# you need to have TWS API and Trader WorkStation"
   ]
  },
  {
   "cell_type": "code",
   "execution_count": 5,
   "metadata": {},
   "outputs": [],
   "source": [
    "app=TradingApp()\n"
   ]
  },
  {
   "cell_type": "code",
   "execution_count": 6,
   "metadata": {},
   "outputs": [],
   "source": [
    "app.connect('127.0.0.1',7497,clientId=6)"
   ]
  },
  {
   "cell_type": "code",
   "execution_count": 7,
   "metadata": {},
   "outputs": [
    {
     "name": "stdout",
     "output_type": "stream",
     "text": [
      "Error:  {-1} {2104} {'Market data farm connection is OK:usfarm.nj'}\n",
      "Error:  {-1} {2104} {'Market data farm connection is OK:usfuture'}\n",
      "Error:  {-1} {2104} {'Market data farm connection is OK:eufarm'}\n",
      "Error:  {-1} {2104} {'Market data farm connection is OK:cafarm'}\n",
      "Error:  {-1} {2104} {'Market data farm connection is OK:usfarm'}\n",
      "Error:  {-1} {2106} {'HMDS data farm connection is OK:ushmds'}\n",
      "Error:  {-1} {2158} {'Sec-def data farm connection is OK:secdefnj'}\n"
     ]
    }
   ],
   "source": [
    "threading.Thread(target=app.run,daemon=True).start()"
   ]
  },
  {
   "cell_type": "code",
   "execution_count": 8,
   "metadata": {},
   "outputs": [],
   "source": [
    "nvda=TradingApp.get_stock_contract('NVDA')"
   ]
  },
  {
   "cell_type": "code",
   "execution_count": 9,
   "metadata": {},
   "outputs": [
    {
     "data": {
      "text/plain": [
       "4593249168: 0,NVDA,STK,,0.0,,,SMART,,USD,,,False,,combo:"
      ]
     },
     "execution_count": 9,
     "metadata": {},
     "output_type": "execute_result"
    }
   ],
   "source": [
    "nvda"
   ]
  },
  {
   "cell_type": "code",
   "execution_count": 10,
   "metadata": {},
   "outputs": [
    {
     "data": {
      "text/html": [
       "<div>\n",
       "<style scoped>\n",
       "    .dataframe tbody tr th:only-of-type {\n",
       "        vertical-align: middle;\n",
       "    }\n",
       "\n",
       "    .dataframe tbody tr th {\n",
       "        vertical-align: top;\n",
       "    }\n",
       "\n",
       "    .dataframe thead th {\n",
       "        text-align: right;\n",
       "    }\n",
       "</style>\n",
       "<table border=\"1\" class=\"dataframe\">\n",
       "  <thead>\n",
       "    <tr style=\"text-align: right;\">\n",
       "      <th></th>\n",
       "      <th>high</th>\n",
       "      <th>low</th>\n",
       "      <th>close</th>\n",
       "    </tr>\n",
       "    <tr>\n",
       "      <th>time</th>\n",
       "      <th></th>\n",
       "      <th></th>\n",
       "      <th></th>\n",
       "    </tr>\n",
       "  </thead>\n",
       "  <tbody>\n",
       "    <tr>\n",
       "      <th>2025-03-28 08:00:00</th>\n",
       "      <td>118.07</td>\n",
       "      <td>110.98</td>\n",
       "      <td>111.14</td>\n",
       "    </tr>\n",
       "    <tr>\n",
       "      <th>2025-03-28 08:01:00</th>\n",
       "      <td>111.16</td>\n",
       "      <td>111.02</td>\n",
       "      <td>111.03</td>\n",
       "    </tr>\n",
       "    <tr>\n",
       "      <th>2025-03-28 08:02:00</th>\n",
       "      <td>111.17</td>\n",
       "      <td>111.00</td>\n",
       "      <td>111.13</td>\n",
       "    </tr>\n",
       "    <tr>\n",
       "      <th>2025-03-28 08:03:00</th>\n",
       "      <td>111.24</td>\n",
       "      <td>111.13</td>\n",
       "      <td>111.23</td>\n",
       "    </tr>\n",
       "    <tr>\n",
       "      <th>2025-03-28 08:04:00</th>\n",
       "      <td>111.33</td>\n",
       "      <td>111.22</td>\n",
       "      <td>111.29</td>\n",
       "    </tr>\n",
       "    <tr>\n",
       "      <th>...</th>\n",
       "      <td>...</td>\n",
       "      <td>...</td>\n",
       "      <td>...</td>\n",
       "    </tr>\n",
       "    <tr>\n",
       "      <th>2025-03-28 23:55:00</th>\n",
       "      <td>109.02</td>\n",
       "      <td>109.00</td>\n",
       "      <td>109.02</td>\n",
       "    </tr>\n",
       "    <tr>\n",
       "      <th>2025-03-28 23:56:00</th>\n",
       "      <td>109.06</td>\n",
       "      <td>109.01</td>\n",
       "      <td>109.06</td>\n",
       "    </tr>\n",
       "    <tr>\n",
       "      <th>2025-03-28 23:57:00</th>\n",
       "      <td>109.08</td>\n",
       "      <td>109.03</td>\n",
       "      <td>109.03</td>\n",
       "    </tr>\n",
       "    <tr>\n",
       "      <th>2025-03-28 23:58:00</th>\n",
       "      <td>109.04</td>\n",
       "      <td>109.01</td>\n",
       "      <td>109.02</td>\n",
       "    </tr>\n",
       "    <tr>\n",
       "      <th>2025-03-28 23:59:00</th>\n",
       "      <td>109.03</td>\n",
       "      <td>109.01</td>\n",
       "      <td>109.02</td>\n",
       "    </tr>\n",
       "  </tbody>\n",
       "</table>\n",
       "<p>960 rows × 3 columns</p>\n",
       "</div>"
      ],
      "text/plain": [
       "                       high     low   close\n",
       "time                                       \n",
       "2025-03-28 08:00:00  118.07  110.98  111.14\n",
       "2025-03-28 08:01:00  111.16  111.02  111.03\n",
       "2025-03-28 08:02:00  111.17  111.00  111.13\n",
       "2025-03-28 08:03:00  111.24  111.13  111.23\n",
       "2025-03-28 08:04:00  111.33  111.22  111.29\n",
       "...                     ...     ...     ...\n",
       "2025-03-28 23:55:00  109.02  109.00  109.02\n",
       "2025-03-28 23:56:00  109.06  109.01  109.06\n",
       "2025-03-28 23:57:00  109.08  109.03  109.03\n",
       "2025-03-28 23:58:00  109.04  109.01  109.02\n",
       "2025-03-28 23:59:00  109.03  109.01  109.02\n",
       "\n",
       "[960 rows x 3 columns]"
      ]
     },
     "execution_count": 10,
     "metadata": {},
     "output_type": "execute_result"
    }
   ],
   "source": [
    "data=app.get_historical_data(99,nvda)\n",
    "data"
   ]
  },
  {
   "cell_type": "markdown",
   "metadata": {},
   "source": [
    "## These are most useful libraries in python for indicators and chart for data . \n",
    "### pip install mplfinance for renko and kagi\n",
    "## pip install pandas_ta for (indicator like MACD,RSI ATR,..) https://github.com/twopirllc/pandas-ta.git\n",
    "# pip install plotly  for better visualization, like Kagi and Renko"
   ]
  }
 ],
 "metadata": {
  "kernelspec": {
   "display_name": "stock",
   "language": "python",
   "name": "python3"
  },
  "language_info": {
   "codemirror_mode": {
    "name": "ipython",
    "version": 3
   },
   "file_extension": ".py",
   "mimetype": "text/x-python",
   "name": "python",
   "nbconvert_exporter": "python",
   "pygments_lexer": "ipython3",
   "version": "3.11.11"
  }
 },
 "nbformat": 4,
 "nbformat_minor": 2
}
