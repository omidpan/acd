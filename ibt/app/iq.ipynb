{
 "cells": [
  {
   "cell_type": "code",
   "execution_count": 26,
   "metadata": {},
   "outputs": [],
   "source": [
    "import time\n",
    "import threading\n",
    "import warnings\n",
    "from datetime import datetime\n",
    "from typing import Dict , Optional\n",
    "import pandas as pd # type: ignore\n",
    "warnings.filterwarnings('ignore')"
   ]
  },
  {
   "cell_type": "markdown",
   "metadata": {},
   "source": [
    "# interactive broker API live"
   ]
  },
  {
   "cell_type": "code",
   "execution_count": null,
   "metadata": {},
   "outputs": [
    {
     "name": "stdout",
     "output_type": "stream",
     "text": [
      "\u001b[33mDEPRECATION: Loading egg at /Users/leopn/.pyenv/versions/3.11.13/envs/stock/lib/python3.11/site-packages/ibapi-10.30.1-py3.11.egg is deprecated. pip 24.3 will enforce this behaviour change. A possible replacement is to use pip for package installation.. Discussion can be found at https://github.com/pypa/pip/issues/12330\u001b[0m\u001b[33m\n",
      "\u001b[0mRequirement already satisfied: ibapi in /Users/leopn/.pyenv/versions/3.11.13/envs/stock/lib/python3.11/site-packages/ibapi-10.30.1-py3.11.egg (10.30.1)\n",
      "\n",
      "\u001b[1m[\u001b[0m\u001b[34;49mnotice\u001b[0m\u001b[1;39;49m]\u001b[0m\u001b[39;49m A new release of pip is available: \u001b[0m\u001b[31;49m24.0\u001b[0m\u001b[39;49m -> \u001b[0m\u001b[32;49m25.1.1\u001b[0m\n",
      "\u001b[1m[\u001b[0m\u001b[34;49mnotice\u001b[0m\u001b[1;39;49m]\u001b[0m\u001b[39;49m To update, run: \u001b[0m\u001b[32;49mpip install --upgrade pip\u001b[0m\n",
      "\u001b[33mDEPRECATION: Loading egg at /Users/leopn/.pyenv/versions/3.11.13/envs/stock/lib/python3.11/site-packages/ibapi-10.30.1-py3.11.egg is deprecated. pip 24.3 will enforce this behaviour change. A possible replacement is to use pip for package installation.. Discussion can be found at https://github.com/pypa/pip/issues/12330\u001b[0m\u001b[33m\n",
      "\u001b[0mRequirement already satisfied: ib_insync in /Users/leopn/.pyenv/versions/3.11.13/envs/stock/lib/python3.11/site-packages (0.9.86)\n",
      "Requirement already satisfied: eventkit in /Users/leopn/.pyenv/versions/3.11.13/envs/stock/lib/python3.11/site-packages (from ib_insync) (1.0.3)\n",
      "Requirement already satisfied: nest-asyncio in /Users/leopn/.pyenv/versions/3.11.13/envs/stock/lib/python3.11/site-packages (from ib_insync) (1.6.0)\n",
      "Requirement already satisfied: numpy in /Users/leopn/.pyenv/versions/3.11.13/envs/stock/lib/python3.11/site-packages (from eventkit->ib_insync) (2.2.6)\n",
      "\n",
      "\u001b[1m[\u001b[0m\u001b[34;49mnotice\u001b[0m\u001b[1;39;49m]\u001b[0m\u001b[39;49m A new release of pip is available: \u001b[0m\u001b[31;49m24.0\u001b[0m\u001b[39;49m -> \u001b[0m\u001b[32;49m25.1.1\u001b[0m\n",
      "\u001b[1m[\u001b[0m\u001b[34;49mnotice\u001b[0m\u001b[1;39;49m]\u001b[0m\u001b[39;49m To update, run: \u001b[0m\u001b[32;49mpip install --upgrade pip\u001b[0m\n"
     ]
    }
   ],
   "source": [
    "# !pip install ibapi\n",
    "# !pip install ib_insync"
   ]
  },
  {
   "cell_type": "code",
   "execution_count": 27,
   "metadata": {},
   "outputs": [],
   "source": [
    "from ibapi.client import EClient # type: ignore\n",
    "from ibapi.wrapper import EWrapper\n",
    "from ibapi.contract import Contract\n",
    "from ibapi.order import Order\n",
    "from ibapi.common import BarData"
   ]
  },
  {
   "cell_type": "code",
   "execution_count": 28,
   "metadata": {},
   "outputs": [],
   "source": [
    "class TradingApp(EClient,EWrapper):\n",
    "    def __init__(self)->None:\n",
    "        EClient.__init__(self,self)\n",
    "        self.data: Dict[int,pd.DataFrame]={}\n",
    "    def error(self,reqId:int, erroCode:int,errorString:str)->None:\n",
    "        print(f'Error: ',{reqId},{erroCode},{errorString})\n",
    "    def get_historical_data(self,reqId:int,contract:Contract)->pd.DataFrame:\n",
    "        self.data[reqId]=pd.DataFrame(columns=['time','high','low','close'])\n",
    "        self.data[reqId].set_index('time',inplace=True)\n",
    "        self.reqHistoricalData(\n",
    "            reqId=reqId,\n",
    "            contract=contract,\n",
    "            endDateTime='',\n",
    "            durationStr='1 D',\n",
    "            barSizeSetting='1 min',\n",
    "            whatToShow='MIDPOINT',\n",
    "            useRTH=0,\n",
    "            formatDate=2,\n",
    "            keepUpToDate=False,\n",
    "            chartOptions=[],\n",
    "        )\n",
    "        time.sleep(4)\n",
    "        return self.data[reqId]\n",
    "    def historicalData(self, reqId:int, bar:BarData)->None:\n",
    "        df=self.data[reqId]\n",
    "        df.loc[pd.to_datetime(bar.date,unit='s'),['high','low','close']]=[bar.high,bar.low,bar.close]\n",
    "        df=df.astype(float)\n",
    "        self.data[reqId]=df\n",
    "    @staticmethod\n",
    "    def get_stock_contract(symbol:str)->Contract:\n",
    "        contract=Contract()\n",
    "        contract.symbol=symbol\n",
    "        contract.secType='STK'\n",
    "        contract.exchange='SMART'\n",
    "        contract.currency='USD'\n",
    "        return contract\n",
    "        \n",
    "    \n",
    "        \n"
   ]
  },
  {
   "cell_type": "markdown",
   "metadata": {},
   "source": [
    "# you need to have TWS API and Trader WorkStation"
   ]
  },
  {
   "cell_type": "code",
   "execution_count": 29,
   "metadata": {},
   "outputs": [],
   "source": [
    "app=TradingApp()\n"
   ]
  },
  {
   "cell_type": "code",
   "execution_count": 30,
   "metadata": {},
   "outputs": [],
   "source": [
    "app.connect('127.0.0.1',7497,clientId=6)"
   ]
  },
  {
   "cell_type": "code",
   "execution_count": 31,
   "metadata": {},
   "outputs": [
    {
     "name": "stderr",
     "output_type": "stream",
     "text": [
      "Exception in thread Thread-8 (run):\n",
      "Traceback (most recent call last):\n",
      "  File \"/Users/leopn/.pyenv/versions/3.11.13/lib/python3.11/threading.py\", line 1045, in _bootstrap_inner\n",
      "    self.run()\n",
      "  File \"/Users/leopn/.pyenv/versions/3.11.13/envs/stock/lib/python3.11/site-packages/ipykernel/ipkernel.py\", line 766, in run_closure\n",
      "    _threading_Thread_run(self)\n",
      "  File \"/Users/leopn/.pyenv/versions/3.11.13/lib/python3.11/threading.py\", line 982, in run\n",
      "    self._target(*self._args, **self._kwargs)\n",
      "  File \"/Users/leopn/.pyenv/versions/3.11.13/envs/stock/lib/python3.11/site-packages/ibapi-10.30.1-py3.11.egg/ibapi/client.py\", line 398, in run\n",
      "  File \"/Users/leopn/.pyenv/versions/3.11.13/envs/stock/lib/python3.11/site-packages/ibapi-10.30.1-py3.11.egg/ibapi/decoder.py\", line 1506, in interpret\n",
      "  File \"/Users/leopn/.pyenv/versions/3.11.13/envs/stock/lib/python3.11/site-packages/ibapi-10.30.1-py3.11.egg/ibapi/decoder.py\", line 1388, in processErrorMsg\n",
      "TypeError: TradingApp.error() takes 4 positional arguments but 5 were given\n"
     ]
    }
   ],
   "source": [
    "threading.Thread(target=app.run,daemon=True).start()"
   ]
  },
  {
   "cell_type": "code",
   "execution_count": 23,
   "metadata": {},
   "outputs": [],
   "source": [
    "nvda=TradingApp.get_stock_contract('NVDA')"
   ]
  },
  {
   "cell_type": "code",
   "execution_count": 32,
   "metadata": {},
   "outputs": [
    {
     "data": {
      "text/plain": [
       "4939979600: 0,NVDA,STK,,,0,,,SMART,,USD,,,False,,,,combo:"
      ]
     },
     "execution_count": 32,
     "metadata": {},
     "output_type": "execute_result"
    }
   ],
   "source": [
    "nvda"
   ]
  },
  {
   "cell_type": "code",
   "execution_count": 33,
   "metadata": {},
   "outputs": [
    {
     "name": "stdout",
     "output_type": "stream",
     "text": [
      "Error:  {10} {504} {'Not connected'}\n"
     ]
    },
    {
     "data": {
      "text/html": [
       "<div>\n",
       "<style scoped>\n",
       "    .dataframe tbody tr th:only-of-type {\n",
       "        vertical-align: middle;\n",
       "    }\n",
       "\n",
       "    .dataframe tbody tr th {\n",
       "        vertical-align: top;\n",
       "    }\n",
       "\n",
       "    .dataframe thead th {\n",
       "        text-align: right;\n",
       "    }\n",
       "</style>\n",
       "<table border=\"1\" class=\"dataframe\">\n",
       "  <thead>\n",
       "    <tr style=\"text-align: right;\">\n",
       "      <th></th>\n",
       "      <th>high</th>\n",
       "      <th>low</th>\n",
       "      <th>close</th>\n",
       "    </tr>\n",
       "    <tr>\n",
       "      <th>time</th>\n",
       "      <th></th>\n",
       "      <th></th>\n",
       "      <th></th>\n",
       "    </tr>\n",
       "  </thead>\n",
       "  <tbody>\n",
       "  </tbody>\n",
       "</table>\n",
       "</div>"
      ],
      "text/plain": [
       "Empty DataFrame\n",
       "Columns: [high, low, close]\n",
       "Index: []"
      ]
     },
     "execution_count": 33,
     "metadata": {},
     "output_type": "execute_result"
    }
   ],
   "source": [
    "data=app.get_historical_data(10,nvda)\n",
    "data"
   ]
  },
  {
   "cell_type": "markdown",
   "metadata": {},
   "source": [
    "## These are most useful libraries in python for indicators and chart for data . \n",
    "### pip install mplfinance for renko and kagi\n",
    "## pip install pandas_ta for (indicator like MACD,RSI ATR,..) https://github.com/twopirllc/pandas-ta.git\n",
    "# pip install plotly  for better visualization, like Kagi and Renko"
   ]
  }
 ],
 "metadata": {
  "kernelspec": {
   "display_name": "stock",
   "language": "python",
   "name": "python3"
  },
  "language_info": {
   "codemirror_mode": {
    "name": "ipython",
    "version": 3
   },
   "file_extension": ".py",
   "mimetype": "text/x-python",
   "name": "python",
   "nbconvert_exporter": "python",
   "pygments_lexer": "ipython3",
   "version": "3.11.13"
  }
 },
 "nbformat": 4,
 "nbformat_minor": 2
}
