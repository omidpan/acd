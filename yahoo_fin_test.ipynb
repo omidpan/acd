{
 "cells": [
  {
   "cell_type": "markdown",
   "metadata": {},
   "source": []
  },
  {
   "cell_type": "code",
   "execution_count": 58,
   "metadata": {},
   "outputs": [
    {
     "name": "stderr",
     "output_type": "stream",
     "text": [
      "[*********************100%***********************]  1 of 1 completed"
     ]
    },
    {
     "name": "stdout",
     "output_type": "stream",
     "text": [
      "Cleaned data saved to snow-data.csv\n",
      "                                Close        High         Low        Open  \\\n",
      "Date                                                                        \n",
      "2025-02-20 19:00:00-05:00  177.889999  185.929993  176.350006  184.899994   \n",
      "2025-02-23 19:00:00-05:00  170.919998  177.699997  167.302002  177.580002   \n",
      "2025-02-24 19:00:00-05:00  164.199997  169.960007  160.660004  168.789993   \n",
      "2025-02-25 19:00:00-05:00  166.190002  170.005005  164.800003  166.000000   \n",
      "2025-02-26 19:00:00-05:00  173.690002  187.949997  173.589996  187.009995   \n",
      "2025-02-27 19:00:00-05:00  177.100006  177.259995  170.570007  172.029999   \n",
      "2025-03-02 19:00:00-05:00  173.649994  180.949997  173.056000  178.699997   \n",
      "2025-03-03 19:00:00-05:00  173.600006  176.639999  165.800003  171.750000   \n",
      "2025-03-04 19:00:00-05:00  177.309998  177.770004  170.020004  174.000000   \n",
      "2025-03-05 19:00:00-05:00  156.220001  171.067001  155.889999  167.259995   \n",
      "2025-03-06 19:00:00-05:00  158.910004  159.880005  148.490005  156.250000   \n",
      "2025-03-09 20:00:00-04:00  147.589996  152.649994  146.550003  151.300003   \n",
      "2025-03-10 20:00:00-04:00  149.899994  155.479996  146.000000  147.240005   \n",
      "2025-03-11 20:00:00-04:00  152.505005  155.845001  151.139999  155.369995   \n",
      "\n",
      "                             Volume  \n",
      "Date                                 \n",
      "2025-02-20 19:00:00-05:00   5324200  \n",
      "2025-02-23 19:00:00-05:00   6482100  \n",
      "2025-02-24 19:00:00-05:00   7163200  \n",
      "2025-02-25 19:00:00-05:00  12755700  \n",
      "2025-02-26 19:00:00-05:00  20555700  \n",
      "2025-02-27 19:00:00-05:00   8793500  \n",
      "2025-03-02 19:00:00-05:00   5974600  \n",
      "2025-03-03 19:00:00-05:00   6988000  \n",
      "2025-03-04 19:00:00-05:00   4463600  \n",
      "2025-03-05 19:00:00-05:00  11756200  \n",
      "2025-03-06 19:00:00-05:00  11044600  \n",
      "2025-03-09 20:00:00-04:00  12158600  \n",
      "2025-03-10 20:00:00-04:00   7544500  \n",
      "2025-03-11 20:00:00-04:00   1924738  \n"
     ]
    },
    {
     "name": "stderr",
     "output_type": "stream",
     "text": [
      "\n"
     ]
    }
   ],
   "source": [
    "import yfinance as yf\n",
    "import pytz\n",
    "import pandas as pd\n",
    "\n",
    "# Define timezone\n",
    "et_tz = pytz.timezone(\"America/New_York\")\n",
    "\n",
    "# Define stock symbol and interval\n",
    "symbol = \"SNOW\"\n",
    "interval = \"1d\"  # Supports \"1m\", \"5m\", \"15m\", \"30m\", \"1h\", \"1d\"\n",
    "\n",
    "# Get historical data\n",
    "data = yf.download(symbol, interval=interval, period=\"100d\")\n",
    "\n",
    "# Reset index to include Datetime as a column\n",
    "data.reset_index(inplace=True)\n",
    "\n",
    "# Ensure correct column ordering\n",
    "columns_order = [\"Date\", \"Close\", \"High\", \"Low\", \"Open\", \"Volume\"]\n",
    "data = data[columns_order]  # Reorder the columns properly\n",
    "\n",
    "# Save to CSV without extra index\n",
    "csv_filename = f\"{symbol.lower()}-data.csv\"\n",
    "data.to_csv(csv_filename, index=False)\n",
    "\n",
    "print(f\"Cleaned data saved to {csv_filename}\")\n",
    "import pandas as pd\n",
    "import matplotlib.pyplot as plt\n",
    "import pytz\n",
    "import mplfinance as mpf\n",
    "symbol='SNOW'\n",
    "# Load data from CSV\n",
    "filename = f\"{symbol.lower()}-data.csv\"\n",
    "data = pd.read_csv(filename, header=0, parse_dates=[\"Date\"], index_col=\"Date\",skiprows=[1])\n",
    "\n",
    "# Convert to Eastern Time (ET) only if not already timezone-aware\n",
    "et_tz = pytz.timezone(\"America/New_York\")\n",
    "if data.index.tz is None:\n",
    "    data.index = data.index.tz_localize(\"UTC\").tz_convert(et_tz)\n",
    "else:\n",
    "    data.index = data.index.tz_convert(et_tz)\n",
    "print(data.tail(14))  # Show first 10 rows for verification"
   ]
  }
 ],
 "metadata": {
  "kernelspec": {
   "display_name": "stock",
   "language": "python",
   "name": "python3"
  },
  "language_info": {
   "codemirror_mode": {
    "name": "ipython",
    "version": 3
   },
   "file_extension": ".py",
   "mimetype": "text/x-python",
   "name": "python",
   "nbconvert_exporter": "python",
   "pygments_lexer": "ipython3",
   "version": "3.10.16"
  }
 },
 "nbformat": 4,
 "nbformat_minor": 2
}
