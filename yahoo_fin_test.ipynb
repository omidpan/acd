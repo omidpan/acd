{
 "cells": [
  {
   "cell_type": "code",
   "execution_count": 33,
   "metadata": {},
   "outputs": [
    {
     "name": "stderr",
     "output_type": "stream",
     "text": [
      "[*********************100%***********************]  1 of 1 completed"
     ]
    },
    {
     "name": "stdout",
     "output_type": "stream",
     "text": [
      "Cleaned data saved to snow-data.csv\n",
      "                                Close        High         Low        Open  \\\n",
      "Date                                                                        \n",
      "2025-02-19 19:00:00-05:00  184.960007  186.179993  178.550003  186.000000   \n",
      "2025-02-20 19:00:00-05:00  177.889999  185.929993  176.350006  184.899994   \n",
      "2025-02-23 19:00:00-05:00  170.919998  177.699997  167.302002  177.580002   \n",
      "2025-02-24 19:00:00-05:00  164.199997  169.960007  160.660004  168.789993   \n",
      "2025-02-25 19:00:00-05:00  166.190002  170.005005  164.800003  166.000000   \n",
      "2025-02-26 19:00:00-05:00  173.690002  187.949997  173.589996  187.009995   \n",
      "2025-02-27 19:00:00-05:00  177.100006  177.259995  170.570007  172.029999   \n",
      "2025-03-02 19:00:00-05:00  173.649994  180.949997  173.056000  178.699997   \n",
      "2025-03-03 19:00:00-05:00  173.600006  176.639999  165.800003  171.750000   \n",
      "2025-03-04 19:00:00-05:00  177.309998  177.770004  170.020004  174.000000   \n",
      "2025-03-05 19:00:00-05:00  156.220001  171.067001  155.889999  167.259995   \n",
      "2025-03-06 19:00:00-05:00  158.910004  159.880005  148.490005  156.250000   \n",
      "2025-03-09 20:00:00-04:00  147.589996  152.649994  146.550003  151.300003   \n",
      "2025-03-10 20:00:00-04:00  149.899994  155.479996  146.000000  147.240005   \n",
      "\n",
      "                             Volume  \n",
      "Date                                 \n",
      "2025-02-19 19:00:00-05:00   5423800  \n",
      "2025-02-20 19:00:00-05:00   5324200  \n",
      "2025-02-23 19:00:00-05:00   6482100  \n",
      "2025-02-24 19:00:00-05:00   7163200  \n",
      "2025-02-25 19:00:00-05:00  12755700  \n",
      "2025-02-26 19:00:00-05:00  20555700  \n",
      "2025-02-27 19:00:00-05:00   8793500  \n",
      "2025-03-02 19:00:00-05:00   5974600  \n",
      "2025-03-03 19:00:00-05:00   6988000  \n",
      "2025-03-04 19:00:00-05:00   4463600  \n",
      "2025-03-05 19:00:00-05:00  11756200  \n",
      "2025-03-06 19:00:00-05:00  11044600  \n",
      "2025-03-09 20:00:00-04:00  12158600  \n",
      "2025-03-10 20:00:00-04:00   7544500  \n"
     ]
    },
    {
     "name": "stderr",
     "output_type": "stream",
     "text": [
      "\n"
     ]
    }
   ],
   "source": [
    "import yfinance as yf\n",
    "import pytz\n",
    "import pandas as pd\n",
    "\n",
    "# Define timezone\n",
    "et_tz = pytz.timezone(\"America/New_York\")\n",
    "\n",
    "# Define stock symbol and interval\n",
    "symbol = \"SNOW\"\n",
    "interval = \"1d\"  # Supports \"1m\", \"5m\", \"15m\", \"30m\", \"1h\", \"1d\"\n",
    "\n",
    "# Get historical data\n",
    "data = yf.download(symbol, interval=interval, period=\"100d\")\n",
    "\n",
    "# Reset index to include Datetime as a column\n",
    "data.reset_index(inplace=True)\n",
    "\n",
    "# Ensure correct column ordering\n",
    "columns_order = [\"Date\", \"Close\", \"High\", \"Low\", \"Open\", \"Volume\"]\n",
    "data = data[columns_order]  # Reorder the columns properly\n",
    "\n",
    "# Save to CSV without extra index\n",
    "csv_filename = f\"{symbol.lower()}-data.csv\"\n",
    "data.to_csv(csv_filename, index=False)\n",
    "\n",
    "print(f\"Cleaned data saved to {csv_filename}\")\n",
    "import pandas as pd\n",
    "import matplotlib.pyplot as plt\n",
    "import pytz\n",
    "import mplfinance as mpf\n",
    "symbol='SNOW'\n",
    "# Load data from CSV\n",
    "filename = f\"{symbol.lower()}-data.csv\"\n",
    "data = pd.read_csv(filename, header=0, parse_dates=[\"Date\"], index_col=\"Date\",skiprows=[1])\n",
    "\n",
    "# Convert to Eastern Time (ET) only if not already timezone-aware\n",
    "et_tz = pytz.timezone(\"America/New_York\")\n",
    "if data.index.tz is None:\n",
    "    data.index = data.index.tz_localize(\"UTC\").tz_convert(et_tz)\n",
    "else:\n",
    "    data.index = data.index.tz_convert(et_tz)\n",
    "print(data.tail(14))  # Show first 10 rows for verification"
   ]
  },
  {
   "cell_type": "code",
   "execution_count": null,
   "metadata": {},
   "outputs": [
    {
     "name": "stdout",
     "output_type": "stream",
     "text": [
      "Date\n",
      "2025-02-19 19:00:00-05:00    7.199700\n",
      "2025-02-20 19:00:00-05:00    7.490199\n",
      "2025-02-23 19:00:00-05:00    7.820099\n",
      "2025-02-24 19:00:00-05:00    7.749599\n",
      "2025-02-25 19:00:00-05:00    7.394350\n",
      "2025-02-26 19:00:00-05:00    8.143849\n",
      "2025-02-27 19:00:00-05:00    8.145348\n",
      "2025-03-02 19:00:00-05:00    8.211048\n",
      "2025-03-03 19:00:00-05:00    8.290548\n",
      "2025-03-04 19:00:00-05:00    8.259048\n",
      "2025-03-05 19:00:00-05:00    8.958547\n",
      "2025-03-06 19:00:00-05:00    9.312547\n",
      "2025-03-09 20:00:00-04:00    9.636547\n",
      "2025-03-10 20:00:00-04:00    9.868047\n",
      "Name: ATR, dtype: float64\n",
      "9.636547088623043\n"
     ]
    }
   ],
   "source": [
    "from finta import TA\n",
    "import pandas as pd\n",
    "\n",
    "# # Generate sample data with \"Open\", \"High\", \"Low\", and \"Close\"\n",
    "# data = pd.DataFrame({\n",
    "#     \"Open\": [99, 101, 100, 103, 106, 108, 110, 113, 115, 117, 119, 121, 123, 125, 128, 130],\n",
    "#     \"High\": [101, 103, 102, 105, 108, 110, 112, 115, 117, 119, 121, 123, 125, 127, 130, 132],\n",
    "#     \"Low\": [97, 98, 99, 100, 104, 106, 108, 110, 113, 115, 117, 119, 121, 123, 126, 128],\n",
    "#     \"Close\": [100, 102, 101, 104, 107, 109, 111, 114, 116, 118, 120, 122, 124, 126, 129, 131]\n",
    "# })\n",
    "\n",
    "# Compute ATR with period 14\n",
    "data[\"ATR\"] = TA.ATR(data, period=20)\n",
    "\n",
    "# # Print last 5 rows to check ATR values\n",
    "print(data.tail(14)['ATR'])\n",
    "\n",
    "\n",
    "atr=TA.ATR(data, period=20)[-1] ## last \n",
    "print(d)"
   ]
  },
  {
   "cell_type": "code",
   "execution_count": 52,
   "metadata": {},
   "outputs": [
    {
     "name": "stdout",
     "output_type": "stream",
     "text": [
      "        pivot          s1          s2          s3    s4          r1  \\\n",
      "0         NaN         NaN         NaN         NaN   NaN         NaN   \n",
      "1  101.333333   98.666667   95.333333   92.666667  90.0  104.666667   \n",
      "2  104.333333  101.666667   98.333333   95.666667  93.0  107.666667   \n",
      "3  107.000000  104.000000  100.000000   97.000000  94.0  111.000000   \n",
      "4  109.333333  106.666667  103.333333  100.666667  98.0  112.666667   \n",
      "\n",
      "           r2          r3     r4  \n",
      "0         NaN         NaN    NaN  \n",
      "1  107.333333  110.666667  114.0  \n",
      "2  110.333333  113.666667  117.0  \n",
      "3  114.000000  118.000000  122.0  \n",
      "4  115.333333  118.666667  122.0  \n"
     ]
    }
   ],
   "source": [
    "from finta import TA\n",
    "import pandas as pd\n",
    "\n",
    "# Sample daily price data\n",
    "data = pd.DataFrame({\n",
    "    \"Open\": [100, 102, 105, 107, 110],\n",
    "    \"High\": [104, 107, 110, 112, 115],\n",
    "    \"Low\": [98, 101, 103, 106, 109],\n",
    "    \"Close\": [102, 105, 108, 110, 113]\n",
    "})\n",
    "\n",
    "# Compute Pivot Points\n",
    "pivot_points = TA.PIVOT(data)\n",
    "\n",
    "# Print Pivot Points (Pivot, S1, S2, S3, R1, R2, R3)\n",
    "print(pivot_points)"
   ]
  },
  {
   "cell_type": "code",
   "execution_count": 57,
   "metadata": {},
   "outputs": [
    {
     "ename": "IndexError",
     "evalue": "list index out of range",
     "output_type": "error",
     "traceback": [
      "\u001b[0;31m---------------------------------------------------------------------------\u001b[0m",
      "\u001b[0;31mIndexError\u001b[0m                                Traceback (most recent call last)",
      "Cell \u001b[0;32mIn[57], line 16\u001b[0m\n\u001b[1;32m     13\u001b[0m data \u001b[38;5;241m=\u001b[39m data\u001b[38;5;241m.\u001b[39mrename(columns\u001b[38;5;241m=\u001b[39m{\u001b[38;5;124m\"\u001b[39m\u001b[38;5;124mOpen\u001b[39m\u001b[38;5;124m\"\u001b[39m: \u001b[38;5;124m\"\u001b[39m\u001b[38;5;124mopen\u001b[39m\u001b[38;5;124m\"\u001b[39m, \u001b[38;5;124m\"\u001b[39m\u001b[38;5;124mHigh\u001b[39m\u001b[38;5;124m\"\u001b[39m: \u001b[38;5;124m\"\u001b[39m\u001b[38;5;124mhigh\u001b[39m\u001b[38;5;124m\"\u001b[39m, \u001b[38;5;124m\"\u001b[39m\u001b[38;5;124mLow\u001b[39m\u001b[38;5;124m\"\u001b[39m: \u001b[38;5;124m\"\u001b[39m\u001b[38;5;124mlow\u001b[39m\u001b[38;5;124m\"\u001b[39m, \u001b[38;5;124m\"\u001b[39m\u001b[38;5;124mClose\u001b[39m\u001b[38;5;124m\"\u001b[39m: \u001b[38;5;124m\"\u001b[39m\u001b[38;5;124mclose\u001b[39m\u001b[38;5;124m\"\u001b[39m})\n\u001b[1;32m     15\u001b[0m \u001b[38;5;66;03m# Compute Pivot Points for each day\u001b[39;00m\n\u001b[0;32m---> 16\u001b[0m pivot_data \u001b[38;5;241m=\u001b[39m \u001b[43mdata\u001b[49m\u001b[38;5;241;43m.\u001b[39;49m\u001b[43mapply\u001b[49m\u001b[43m(\u001b[49m\u001b[43mTA\u001b[49m\u001b[38;5;241;43m.\u001b[39;49m\u001b[43mPIVOT\u001b[49m\u001b[43m,\u001b[49m\u001b[43m \u001b[49m\u001b[43maxis\u001b[49m\u001b[38;5;241;43m=\u001b[39;49m\u001b[38;5;241;43m1\u001b[39;49m\u001b[43m)\u001b[49m\n\u001b[1;32m     18\u001b[0m \u001b[38;5;66;03m# Convert to DataFrame\u001b[39;00m\n\u001b[1;32m     19\u001b[0m pivot_data \u001b[38;5;241m=\u001b[39m pd\u001b[38;5;241m.\u001b[39mDataFrame(pivot_data\u001b[38;5;241m.\u001b[39mtolist(), columns\u001b[38;5;241m=\u001b[39m[\u001b[38;5;124m\"\u001b[39m\u001b[38;5;124mPivot\u001b[39m\u001b[38;5;124m\"\u001b[39m, \u001b[38;5;124m\"\u001b[39m\u001b[38;5;124mS1\u001b[39m\u001b[38;5;124m\"\u001b[39m, \u001b[38;5;124m\"\u001b[39m\u001b[38;5;124mS2\u001b[39m\u001b[38;5;124m\"\u001b[39m, \u001b[38;5;124m\"\u001b[39m\u001b[38;5;124mS3\u001b[39m\u001b[38;5;124m\"\u001b[39m, \u001b[38;5;124m\"\u001b[39m\u001b[38;5;124mR1\u001b[39m\u001b[38;5;124m\"\u001b[39m, \u001b[38;5;124m\"\u001b[39m\u001b[38;5;124mR2\u001b[39m\u001b[38;5;124m\"\u001b[39m, \u001b[38;5;124m\"\u001b[39m\u001b[38;5;124mR3\u001b[39m\u001b[38;5;124m\"\u001b[39m])\n",
      "File \u001b[0;32m~/.pyenv/versions/miniconda3-4.7.12/envs/stock/lib/python3.10/site-packages/pandas/core/frame.py:8839\u001b[0m, in \u001b[0;36mDataFrame.apply\u001b[0;34m(self, func, axis, raw, result_type, args, **kwargs)\u001b[0m\n\u001b[1;32m   8828\u001b[0m \u001b[38;5;28;01mfrom\u001b[39;00m \u001b[38;5;21;01mpandas\u001b[39;00m\u001b[38;5;21;01m.\u001b[39;00m\u001b[38;5;21;01mcore\u001b[39;00m\u001b[38;5;21;01m.\u001b[39;00m\u001b[38;5;21;01mapply\u001b[39;00m \u001b[38;5;28;01mimport\u001b[39;00m frame_apply\n\u001b[1;32m   8830\u001b[0m op \u001b[38;5;241m=\u001b[39m frame_apply(\n\u001b[1;32m   8831\u001b[0m     \u001b[38;5;28mself\u001b[39m,\n\u001b[1;32m   8832\u001b[0m     func\u001b[38;5;241m=\u001b[39mfunc,\n\u001b[0;32m   (...)\u001b[0m\n\u001b[1;32m   8837\u001b[0m     kwargs\u001b[38;5;241m=\u001b[39mkwargs,\n\u001b[1;32m   8838\u001b[0m )\n\u001b[0;32m-> 8839\u001b[0m \u001b[38;5;28;01mreturn\u001b[39;00m \u001b[43mop\u001b[49m\u001b[38;5;241;43m.\u001b[39;49m\u001b[43mapply\u001b[49m\u001b[43m(\u001b[49m\u001b[43m)\u001b[49m\u001b[38;5;241m.\u001b[39m__finalize__(\u001b[38;5;28mself\u001b[39m, method\u001b[38;5;241m=\u001b[39m\u001b[38;5;124m\"\u001b[39m\u001b[38;5;124mapply\u001b[39m\u001b[38;5;124m\"\u001b[39m)\n",
      "File \u001b[0;32m~/.pyenv/versions/miniconda3-4.7.12/envs/stock/lib/python3.10/site-packages/pandas/core/apply.py:727\u001b[0m, in \u001b[0;36mFrameApply.apply\u001b[0;34m(self)\u001b[0m\n\u001b[1;32m    724\u001b[0m \u001b[38;5;28;01melif\u001b[39;00m \u001b[38;5;28mself\u001b[39m\u001b[38;5;241m.\u001b[39mraw:\n\u001b[1;32m    725\u001b[0m     \u001b[38;5;28;01mreturn\u001b[39;00m \u001b[38;5;28mself\u001b[39m\u001b[38;5;241m.\u001b[39mapply_raw()\n\u001b[0;32m--> 727\u001b[0m \u001b[38;5;28;01mreturn\u001b[39;00m \u001b[38;5;28;43mself\u001b[39;49m\u001b[38;5;241;43m.\u001b[39;49m\u001b[43mapply_standard\u001b[49m\u001b[43m(\u001b[49m\u001b[43m)\u001b[49m\n",
      "File \u001b[0;32m~/.pyenv/versions/miniconda3-4.7.12/envs/stock/lib/python3.10/site-packages/pandas/core/apply.py:851\u001b[0m, in \u001b[0;36mFrameApply.apply_standard\u001b[0;34m(self)\u001b[0m\n\u001b[1;32m    850\u001b[0m \u001b[38;5;28;01mdef\u001b[39;00m \u001b[38;5;21mapply_standard\u001b[39m(\u001b[38;5;28mself\u001b[39m):\n\u001b[0;32m--> 851\u001b[0m     results, res_index \u001b[38;5;241m=\u001b[39m \u001b[38;5;28;43mself\u001b[39;49m\u001b[38;5;241;43m.\u001b[39;49m\u001b[43mapply_series_generator\u001b[49m\u001b[43m(\u001b[49m\u001b[43m)\u001b[49m\n\u001b[1;32m    853\u001b[0m     \u001b[38;5;66;03m# wrap results\u001b[39;00m\n\u001b[1;32m    854\u001b[0m     \u001b[38;5;28;01mreturn\u001b[39;00m \u001b[38;5;28mself\u001b[39m\u001b[38;5;241m.\u001b[39mwrap_results(results, res_index)\n",
      "File \u001b[0;32m~/.pyenv/versions/miniconda3-4.7.12/envs/stock/lib/python3.10/site-packages/pandas/core/apply.py:867\u001b[0m, in \u001b[0;36mFrameApply.apply_series_generator\u001b[0;34m(self)\u001b[0m\n\u001b[1;32m    864\u001b[0m \u001b[38;5;28;01mwith\u001b[39;00m option_context(\u001b[38;5;124m\"\u001b[39m\u001b[38;5;124mmode.chained_assignment\u001b[39m\u001b[38;5;124m\"\u001b[39m, \u001b[38;5;28;01mNone\u001b[39;00m):\n\u001b[1;32m    865\u001b[0m     \u001b[38;5;28;01mfor\u001b[39;00m i, v \u001b[38;5;129;01min\u001b[39;00m \u001b[38;5;28menumerate\u001b[39m(series_gen):\n\u001b[1;32m    866\u001b[0m         \u001b[38;5;66;03m# ignore SettingWithCopy here in case the user mutates\u001b[39;00m\n\u001b[0;32m--> 867\u001b[0m         results[i] \u001b[38;5;241m=\u001b[39m \u001b[38;5;28;43mself\u001b[39;49m\u001b[38;5;241;43m.\u001b[39;49m\u001b[43mf\u001b[49m\u001b[43m(\u001b[49m\u001b[43mv\u001b[49m\u001b[43m)\u001b[49m\n\u001b[1;32m    868\u001b[0m         \u001b[38;5;28;01mif\u001b[39;00m \u001b[38;5;28misinstance\u001b[39m(results[i], ABCSeries):\n\u001b[1;32m    869\u001b[0m             \u001b[38;5;66;03m# If we have a view on v, we need to make a copy because\u001b[39;00m\n\u001b[1;32m    870\u001b[0m             \u001b[38;5;66;03m#  series_generator will swap out the underlying data\u001b[39;00m\n\u001b[1;32m    871\u001b[0m             results[i] \u001b[38;5;241m=\u001b[39m results[i]\u001b[38;5;241m.\u001b[39mcopy(deep\u001b[38;5;241m=\u001b[39m\u001b[38;5;28;01mFalse\u001b[39;00m)\n",
      "File \u001b[0;32m~/.pyenv/versions/miniconda3-4.7.12/envs/stock/lib/python3.10/site-packages/finta/finta.py:15\u001b[0m, in \u001b[0;36minputvalidator.<locals>.dfcheck.<locals>.wrap\u001b[0;34m(*args, **kwargs)\u001b[0m\n\u001b[1;32m     12\u001b[0m args \u001b[38;5;241m=\u001b[39m \u001b[38;5;28mlist\u001b[39m(args)\n\u001b[1;32m     13\u001b[0m i \u001b[38;5;241m=\u001b[39m \u001b[38;5;241m0\u001b[39m \u001b[38;5;28;01mif\u001b[39;00m \u001b[38;5;28misinstance\u001b[39m(args[\u001b[38;5;241m0\u001b[39m], pd\u001b[38;5;241m.\u001b[39mDataFrame) \u001b[38;5;28;01melse\u001b[39;00m \u001b[38;5;241m1\u001b[39m\n\u001b[0;32m---> 15\u001b[0m args[i] \u001b[38;5;241m=\u001b[39m \u001b[43margs\u001b[49m\u001b[43m[\u001b[49m\u001b[43mi\u001b[49m\u001b[43m]\u001b[49m\u001b[38;5;241m.\u001b[39mrename(columns\u001b[38;5;241m=\u001b[39m{c: c\u001b[38;5;241m.\u001b[39mlower() \u001b[38;5;28;01mfor\u001b[39;00m c \u001b[38;5;129;01min\u001b[39;00m args[i]\u001b[38;5;241m.\u001b[39mcolumns})\n\u001b[1;32m     17\u001b[0m inputs \u001b[38;5;241m=\u001b[39m {\n\u001b[1;32m     18\u001b[0m     \u001b[38;5;124m\"\u001b[39m\u001b[38;5;124mo\u001b[39m\u001b[38;5;124m\"\u001b[39m: \u001b[38;5;124m\"\u001b[39m\u001b[38;5;124mopen\u001b[39m\u001b[38;5;124m\"\u001b[39m,\n\u001b[1;32m     19\u001b[0m     \u001b[38;5;124m\"\u001b[39m\u001b[38;5;124mh\u001b[39m\u001b[38;5;124m\"\u001b[39m: \u001b[38;5;124m\"\u001b[39m\u001b[38;5;124mhigh\u001b[39m\u001b[38;5;124m\"\u001b[39m,\n\u001b[0;32m   (...)\u001b[0m\n\u001b[1;32m     22\u001b[0m     \u001b[38;5;124m\"\u001b[39m\u001b[38;5;124mv\u001b[39m\u001b[38;5;124m\"\u001b[39m: \u001b[38;5;124m\"\u001b[39m\u001b[38;5;124mvolume\u001b[39m\u001b[38;5;124m\"\u001b[39m,\n\u001b[1;32m     23\u001b[0m }\n\u001b[1;32m     25\u001b[0m \u001b[38;5;28;01mif\u001b[39;00m inputs[\u001b[38;5;124m\"\u001b[39m\u001b[38;5;124mc\u001b[39m\u001b[38;5;124m\"\u001b[39m] \u001b[38;5;241m!=\u001b[39m \u001b[38;5;124m\"\u001b[39m\u001b[38;5;124mclose\u001b[39m\u001b[38;5;124m\"\u001b[39m:\n",
      "\u001b[0;31mIndexError\u001b[0m: list index out of range"
     ]
    }
   ],
   "source": [
    "from finta import TA\n",
    "import pandas as pd\n",
    "\n",
    "# Sample daily price data\n",
    "data = pd.DataFrame({\n",
    "    \"Open\": [100, 102, 105, 107, 110, 112, 115],\n",
    "    \"High\": [104, 107, 110, 112, 115, 117, 120],\n",
    "    \"Low\": [98, 101, 103, 106, 109, 111, 114],\n",
    "    \"Close\": [102, 105, 108, 110, 113, 116, 119]\n",
    "})\n",
    "\n",
    "# Rename columns to lowercase to match finta's expected format\n",
    "data = data.rename(columns={\"Open\": \"open\", \"High\": \"high\", \"Low\": \"low\", \"Close\": \"close\"})\n",
    "\n",
    "# Compute Pivot Points for each day\n",
    "pivot_data = data.apply(TA.PIVOT, axis=1)\n",
    "\n",
    "# Convert to DataFrame\n",
    "pivot_data = pd.DataFrame(pivot_data.tolist(), columns=[\"Pivot\", \"S1\", \"S2\", \"S3\", \"R1\", \"R2\", \"R3\"])\n",
    "\n",
    "# Merge with original data\n",
    "data = pd.concat([data, pivot_data], axis=1)\n",
    "\n",
    "# Compute 3-Day Pivot Range (Rolling Mean)\n",
    "data[\"Pivot_3D\"] = data[\"Pivot\"].rolling(window=3).mean()\n",
    "data[\"S1_3D\"] = data[\"S1\"].rolling(window=3).mean()\n",
    "data[\"R1_3D\"] = data[\"R1\"].rolling(window=3).mean()\n",
    "\n",
    "# Drop NaN values (first 2 rows won't have a 3-day average)\n",
    "data.dropna(inplace=True)\n",
    "\n",
    "# Print results\n",
    "print(data[[\"Pivot_3D\", \"S1_3D\", \"R1_3D\"]].tail(5))  # Show last 5 rows\n",
    "\n"
   ]
  }
 ],
 "metadata": {
  "kernelspec": {
   "display_name": "stock",
   "language": "python",
   "name": "python3"
  },
  "language_info": {
   "codemirror_mode": {
    "name": "ipython",
    "version": 3
   },
   "file_extension": ".py",
   "mimetype": "text/x-python",
   "name": "python",
   "nbconvert_exporter": "python",
   "pygments_lexer": "ipython3",
   "version": "3.10.16"
  }
 },
 "nbformat": 4,
 "nbformat_minor": 2
}
